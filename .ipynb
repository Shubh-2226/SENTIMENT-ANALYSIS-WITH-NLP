import numpy as np
import pandas as pd
import matplotlib.pyplot as plt
import seaborn as sns
from sklearn.model_selection import train_test_split
from sklearn.feature_extraction.text import CountVectorizer, TfidfTransformer
from sklearn.naive_bayes import MultinomialNB
from sklearn.pipeline import Pipeline
from sklearn.metrics import accuracy_score, classification_report, confusion_matrix

# Sample dataset
data = {
    'text': [
        "I love this product! It's amazing.",
        "This is the worst experience I've had.",
        "Absolutely fantastic! Highly recommend.",
        "I hate it. Waste of money!",
        "Not bad, but could be better.",
        "An excellent choice, very happy with this purchase!",
        "Terrible, I regret buying this.",
        "Satisfactory, but I expected more."
    ],
    'sentiment': ['positive', 'negative', 'positive', 'negative', 'neutral', 'positive', 'negative', 'neutral']
}

# Convert to DataFrame
df = pd.DataFrame(data)

# Preprocessing & Splitting
df['sentiment'] = df['sentiment'].map({'positive': 1, 'neutral': 0, 'negative': -1})
X_train, X_test, y_train, y_test = train_test_split(df['text'], df['sentiment'], test_size=0.2, random_state=42)

# Build a Pipeline (Vectorization + Model)
pipeline = Pipeline([
    ('vectorizer', CountVectorizer()),
    ('tfidf', TfidfTransformer()),
    ('classifier', MultinomialNB())
])

# Train the Model
pipeline.fit(X_train, y_train)

# Predictions
y_pred = pipeline.predict(X_test)

# Evaluation
print("Accuracy:", accuracy_score(y_test, y_pred))
print("Classification Report:\n", classification_report(y_test, y_pred, zero_division=0))

# Confusion Matrix
conf_mat = confusion_matrix(y_test, y_pred)
sns.heatmap(conf_mat, annot=True, fmt='d', cmap='Blues', xticklabels=['Negative', 'Neutral', 'Positive'], yticklabels=['Negative', 'Neutral', 'Positive'])
plt.xlabel('Predicted')
plt.ylabel('Actual')
plt.title('Confusion Matrix')
plt.show()

# Test on New Sentences
def predict_sentiment(text):
    pred = pipeline.predict([text])[0]
    labels = {-1: "Negative", 0: "Neutral", 1: "Positive"}
    return labels[pred]

sample_text = "This product exceeded my expectations!"
print(f"Sentiment for sample text: {predict_sentiment(sample_text)}")
